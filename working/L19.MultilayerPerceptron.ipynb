{
 "cells": [
  {
   "cell_type": "markdown",
   "id": "6823f5fe",
   "metadata": {},
   "source": [
    "# Exercise\n",
    "\n",
    "Today we'll play with the TensorFlow playground. Tensorflow is one of the main open-source deep learning libraries.\n",
    "\n",
    "* We have a function $f(x_1, x_2)$ that returns $+1$ (blue) or $-1$ (orange).\n",
    "* We are given a dataset and split it into training and testing.\n",
    "* Hit play, and the network starts training.\n",
    "* The thickness of the line tells you how much that synapis contributes to the training.\n",
    "* You can monitor progress on the top-right.\n",
    "* The goal of the game is to minimize the loss function on the test set (I don't care about the loss function on the training set!).\n",
    "* You can change everything but the type of problem, the test/train ratio, and the noise level.\n",
    "* So feel free to play with activation function, number of layers, number of neuron per layers, learning rate, regularization, incoming features (data augmentation), etc.\n",
    "\n",
    "\n",
    "1. Let's start from [this dataset](https://playground.tensorflow.org/#activation=linear&regularization=L2&batchSize=10&dataset=xor&regDataset=reg-plane&learningRate=0.01&regularizationRate=0&noise=35&networkShape=1&seed=0.50246&showTestData=false&discretize=false&percTrainData=50&x=true&y=true&xTimesY=false&xSquared=false&ySquared=false&cosX=false&sinX=false&cosY=false&sinY=false&collectStats=false&problem=classification&initZero=false&hideText=false). Try to get the lowest score on the test set. Take a screenshot or we won't believe you! Let's draw a leaderboard.\n",
    "2. Then move on to [this dataset](https://playground.tensorflow.org/#activation=relu&regularization=L2&batchSize=10&dataset=spiral&regDataset=reg-plane&learningRate=0.1&regularizationRate=0.01&noise=50&networkShape=3,2&seed=0.65406&showTestData=false&discretize=false&percTrainData=50&x=true&y=true&xTimesY=false&xSquared=false&ySquared=false&cosX=false&sinX=false&cosY=false&sinY=false&collectStats=false&problem=classification&initZero=false&hideText=false), which is more challenging."
   ]
  },
  {
   "cell_type": "markdown",
   "id": "2a9bb816",
   "metadata": {},
   "source": [
    "### First dataset \n",
    "\n",
    "![First](NNP_one.png)"
   ]
  },
  {
   "cell_type": "markdown",
   "id": "82b2b847",
   "metadata": {},
   "source": [
    "In particular:\n",
    "\n",
    "* Features: $x_1$, $x_2$ and $x_1 x_2$ (data augmentation).\n",
    "* Learning rate: $0.01$. High enough to fit quickly the data, but not so high to avoid convergence.\n",
    "* Activation function: $Tanh$. The data are distributed symmetrically around $0$.\n",
    "* Regularization and regularization rate: $L2$ and $0.03$. To avoid local mimima and overfitting.\n",
    "* Hidden layers: $1$. The model is not so complicated to require complex neural network structures.\n",
    "* Neurons: $4$. It is a number higher than the one describing the input informations ($3$)."
   ]
  },
  {
   "cell_type": "markdown",
   "id": "5f0e7e2f",
   "metadata": {},
   "source": [
    "### Second dataset\n",
    "\n",
    "![second](NNP_second.png)"
   ]
  },
  {
   "cell_type": "markdown",
   "id": "b245920c",
   "metadata": {},
   "source": [
    "In particular:\n",
    "\n",
    "* Features: $x_1$, $x_2$, $x_1^2$, $x_2^2$, $x_1 x_2$, $sin(x_1)$ and $sin(x_2)$ (data augmentation).\n",
    "* Learning rate: $0.01$. High enough to fit quickly the data, but not so high to avoid convergence.\n",
    "* Activation function: $Tanh$. The data are distributed symmetrically around $0$.\n",
    "* Regularization and regularization rate: $L2$ and $0.01$. To avoid local minima and overfitting.\n",
    "* Hidden layers: $2$. The model is more complicated than the previous one.\n",
    "* Neurons: $8$ and $5$. The first hidden layer needs more neurons to capture the main features of the data, the second hidden layer, instead, has fewer neurons to avoid overfitting."
   ]
  }
 ],
 "metadata": {
  "kernelspec": {
   "display_name": "Python 3 (ipykernel)",
   "language": "python",
   "name": "python3"
  },
  "language_info": {
   "codemirror_mode": {
    "name": "ipython",
    "version": 3
   },
   "file_extension": ".py",
   "mimetype": "text/x-python",
   "name": "python",
   "nbconvert_exporter": "python",
   "pygments_lexer": "ipython3",
   "version": "3.11.5"
  }
 },
 "nbformat": 4,
 "nbformat_minor": 5
}
