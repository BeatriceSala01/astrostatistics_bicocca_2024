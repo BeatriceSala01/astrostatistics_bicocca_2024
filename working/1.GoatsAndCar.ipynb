{
 "cells": [
  {
   "cell_type": "markdown",
   "id": "976fbd0f",
   "metadata": {},
   "source": [
    "# Exercise 1\n",
    "\n",
    "There are 3 doors: one with a car, two with goats. The game show host asks you to pick a door, but not to open it yet. Then the host opens one of the other two doors (that you did not pick) and that has a goat. The host offers you the opportunity to switch doors.\n",
    "\n",
    "1. One player decides to switch.\n",
    "2. Another player prefers to stay with the previous choice.\n",
    "3. Now a third player comes in who has not seen what happened earlier. They pick a door.\n",
    "\n",
    "Which of the three players is most likely to win?"
   ]
  },
  {
   "cell_type": "code",
   "execution_count": 1,
   "id": "17955a6a",
   "metadata": {},
   "outputs": [],
   "source": [
    "import numpy as np\n",
    "import random as rnd"
   ]
  },
  {
   "cell_type": "markdown",
   "id": "32905569",
   "metadata": {},
   "source": [
    "First, I define the array of doors containing two goats and a car, and then I shuffle it not to know where the car is."
   ]
  },
  {
   "cell_type": "code",
   "execution_count": 2,
   "id": "624ccdcc",
   "metadata": {},
   "outputs": [
    {
     "name": "stdout",
     "output_type": "stream",
     "text": [
      "['goat', 'goat', 'car']\n"
     ]
    }
   ],
   "source": [
    "a = ['goat', 'car', 'goat']\n",
    "rnd.shuffle(a)\n",
    "print(a)"
   ]
  },
  {
   "cell_type": "markdown",
   "id": "7d87ca49",
   "metadata": {},
   "source": [
    "I introduce three arrays x, y, z that represent the players. In particular:\n",
    "\n",
    "1. x = chooses one between three doors and then doesn't change it.\n",
    "2. y = chooses one between three doors and then switches it.\n",
    "3. z = arrives later and chooses between two doors."
   ]
  },
  {
   "cell_type": "code",
   "execution_count": 3,
   "id": "1de0de12",
   "metadata": {},
   "outputs": [
    {
     "name": "stdout",
     "output_type": "stream",
     "text": [
      "Choice of x\n",
      "Door chosen:  2\n",
      "Corresponding result:  goat\n"
     ]
    }
   ],
   "source": [
    "index = [0, 1, 2]\n",
    "rnd.shuffle(index)\n",
    "\n",
    "x = a[index[0]]\n",
    "y = a[index[0]]\n",
    "\n",
    "print('Choice of x')\n",
    "print('Door chosen: ', index[0]+1)  # I added 1 because the doors are 1, 2, 3 and the indeces are 0, 1, 2\n",
    "print('Corresponding result: ', x)"
   ]
  },
  {
   "cell_type": "markdown",
   "id": "533ed2fc",
   "metadata": {},
   "source": [
    "Now, I define a new array b such that:\n",
    "\n",
    "1. if x has chosen the door with the car, b must contain the car (so the choice of x, which is $a[index[0]]$) and a goat (so one of the other two doors not chosen by x).\n",
    "2. if x has chosen a door with a goat, I want b to contain the door chosen by x ($a[index[0]]$) and the one containing the car.\n",
    "\n",
    "Consequently, y changes its choice and z chooses between the two new doors."
   ]
  },
  {
   "cell_type": "code",
   "execution_count": 4,
   "id": "8bf89f40",
   "metadata": {},
   "outputs": [
    {
     "name": "stdout",
     "output_type": "stream",
     "text": [
      "['goat', 'car']\n",
      "x:  goat  y:  car  z:  goat\n"
     ]
    }
   ],
   "source": [
    "if x=='car':\n",
    "    b=[a[index[0]], a[index[1]]]\n",
    "if x=='goat':\n",
    "    if a[index[1]]=='car':\n",
    "        b=[a[index[0]], a[index[1]]]\n",
    "    if a[index[1]]=='goat':\n",
    "        b=[a[index[0]], a[index[2]]]\n",
    "\n",
    "print(b)\n",
    "\n",
    "# x is not changing, while y chooses the other door\n",
    "x = b[0]\n",
    "y = b[1]\n",
    "\n",
    "# z is choosing between the last two doors\n",
    "new_index = [0, 1]\n",
    "rnd.shuffle(new_index)\n",
    "z = b[new_index[0]]\n",
    "\n",
    "print('x: ', x, ' y: ', y,' z: ', z)"
   ]
  },
  {
   "cell_type": "markdown",
   "id": "99ecf4af",
   "metadata": {},
   "source": [
    "Now, I mantain the number of doors fixed to $3$ but I repeat the procedure $N$ times."
   ]
  },
  {
   "cell_type": "code",
   "execution_count": 5,
   "id": "8d1ce02e",
   "metadata": {},
   "outputs": [],
   "source": [
    "# number of iterations\n",
    "N = 50000\n",
    "\n",
    "# arrays with the N choices for each player\n",
    "X = []\n",
    "Y = []\n",
    "Z = []\n",
    "\n",
    "i = 0\n",
    "for i in range(N):\n",
    "    index = [0, 1, 2]\n",
    "    rnd.shuffle(index)\n",
    "\n",
    "    x = a[index[0]]\n",
    "    y = a[index[0]]\n",
    "\n",
    "    if x=='car':\n",
    "        b=[a[index[0]], a[index[1]]]\n",
    "    if x=='goat':\n",
    "        if a[index[1]]=='car':\n",
    "            b=[a[index[0]], a[index[1]]]\n",
    "        if a[index[1]]=='goat':\n",
    "            b=[a[index[0]], a[index[2]]]\n",
    "\n",
    "    x = b[0]\n",
    "    y = b[1]\n",
    "\n",
    "    new_index = [0, 1]\n",
    "    rnd.shuffle(new_index)\n",
    "    z = b[new_index[0]]\n",
    "    \n",
    "    X.append(x)\n",
    "    Y.append(y)\n",
    "    Z.append(z)"
   ]
  },
  {
   "cell_type": "markdown",
   "id": "6cddd473",
   "metadata": {},
   "source": [
    "The probability of having chosen the door with the car is given by, for each player: \n",
    "\n",
    "\\begin{equation}\n",
    "probability = \\frac{number \\, of \\, times \\, the \\, player \\, found \\, car}{total \\, number \\, = \\, N}\n",
    "\\end{equation}"
   ]
  },
  {
   "cell_type": "code",
   "execution_count": 6,
   "id": "452f91d5",
   "metadata": {},
   "outputs": [
    {
     "name": "stdout",
     "output_type": "stream",
     "text": [
      "The probabilities are:\n",
      "x:  0.33394  y:  0.66606  z:  0.49896\n"
     ]
    }
   ],
   "source": [
    "j = 0\n",
    "num_X = 0\n",
    "num_Y = 0\n",
    "num_Z = 0\n",
    "\n",
    "for j in range(N):\n",
    "    if X[j]=='car':\n",
    "        num_X = num_X+1\n",
    "        \n",
    "    if Y[j]=='car':\n",
    "        num_Y = num_Y+1\n",
    "        \n",
    "    if Z[j]=='car':\n",
    "        num_Z = num_Z+1\n",
    "\n",
    "prob_X = num_X/N\n",
    "prob_Y = num_Y/N\n",
    "prob_Z = num_Z/N\n",
    "\n",
    "print('The probabilities are:')\n",
    "print('x: ', prob_X, ' y: ', prob_Y, ' z: ', prob_Z)"
   ]
  },
  {
   "cell_type": "markdown",
   "id": "8267180f",
   "metadata": {},
   "source": [
    "I want to analyse the same situation but with a number of doors $M$ so that $M=100$. Now e, f and g are the new x, y and z.\n",
    "\n",
    "I define two functions:\n",
    "\n",
    "1. rm_index find the index to be removed. Therefore I want to find an index representing the door that the host opens after x chose a door, and I want that index not to be equal to the one chosen by x and to the one containing the car.\n",
    "2. rm_index1 find the new index for f, which is changing its original choice. The index chosen can not be the one removed by the host neither the one chosen by x."
   ]
  },
  {
   "cell_type": "code",
   "execution_count": 7,
   "id": "38757183",
   "metadata": {},
   "outputs": [],
   "source": [
    "def rm_index(index_choice, array):\n",
    "    while True:\n",
    "        indice = rnd.randint(0, len(array)-1)  # -1 because the indeces are between 0 and M-1 (not 1 and M)\n",
    "        if array[indice]!='car' and indice!=index_choice:\n",
    "            return indice\n",
    "        \n",
    "def rm_index1(index_choice, array, indd):\n",
    "    while True:\n",
    "        indice = rnd.randint(0, len(array)-1)\n",
    "        if indice!=indd and indice!=index_choice:\n",
    "            return indice"
   ]
  },
  {
   "cell_type": "code",
   "execution_count": 8,
   "id": "bc6b551b",
   "metadata": {},
   "outputs": [],
   "source": [
    "M = 100\n",
    "\n",
    "E = []\n",
    "F = []\n",
    "G = []\n",
    "Index = []\n",
    "New_index = []\n",
    "\n",
    "# array of doors\n",
    "c = []\n",
    "c.append('car')\n",
    "for r in range(M-1):\n",
    "    c.append('goat')\n",
    "\n",
    "rnd.shuffle(c)\n",
    "\n",
    "# number of iterations\n",
    "P = 50000\n",
    "h = 0\n",
    "for h in range(P):\n",
    "    \n",
    "    Index = list(range(M))\n",
    "    rnd.shuffle(Index)\n",
    "    \n",
    "    # the player chooses a door\n",
    "    index_choice = Index[0]\n",
    "    e = c[index_choice]\n",
    "    f = c[index_choice]\n",
    "    \n",
    "    d = c.copy()\n",
    "    \n",
    "    # remove an index (where there is a goat and it's not the door chosen by the player)\n",
    "    ind = rm_index(index_choice, d)\n",
    "    \n",
    "    d.pop(ind)\n",
    "    \n",
    "    # ind_2 can't be index_choice and ind\n",
    "    ind_2 = rm_index1(index_choice, c, ind)\n",
    "    f = c[ind_2]\n",
    "    \n",
    "    ind_3 = rnd.randint(0, len(d)-1)\n",
    "    g = d[ind_3]\n",
    "    \n",
    "    E.append(e)\n",
    "    F.append(f)\n",
    "    G.append(g)\n",
    "    \n",
    "    Index.clear()\n",
    "    New_index.clear()"
   ]
  },
  {
   "cell_type": "markdown",
   "id": "a99a1c4b",
   "metadata": {},
   "source": [
    "I now compute the probabilities associated to each player as before."
   ]
  },
  {
   "cell_type": "code",
   "execution_count": 9,
   "id": "c244c7f0",
   "metadata": {},
   "outputs": [
    {
     "name": "stdout",
     "output_type": "stream",
     "text": [
      "Probabilities:\n",
      "x  0.00958  y:  0.0096  z:  0.01006\n"
     ]
    }
   ],
   "source": [
    "j = 0\n",
    "Num_E = 0\n",
    "Num_F = 0\n",
    "Num_G = 0\n",
    "\n",
    "for j in range(P):\n",
    "    if E[j]=='car':\n",
    "        Num_E = Num_E+1\n",
    "        \n",
    "    if F[j]=='car':\n",
    "        Num_F = Num_F+1\n",
    "        \n",
    "    if G[j]=='car':\n",
    "        Num_G = Num_G+1\n",
    "\n",
    "Prob_E = Num_E/P\n",
    "Prob_F = Num_F/P\n",
    "Prob_G = Num_G/P\n",
    "\n",
    "print('Probabilities:')\n",
    "print('x ', Prob_E, ' y: ', Prob_F, ' z: ', Prob_G)"
   ]
  }
 ],
 "metadata": {
  "kernelspec": {
   "display_name": "Python 3 (ipykernel)",
   "language": "python",
   "name": "python3"
  },
  "language_info": {
   "codemirror_mode": {
    "name": "ipython",
    "version": 3
   },
   "file_extension": ".py",
   "mimetype": "text/x-python",
   "name": "python",
   "nbconvert_exporter": "python",
   "pygments_lexer": "ipython3",
   "version": "3.11.5"
  }
 },
 "nbformat": 4,
 "nbformat_minor": 5
}
