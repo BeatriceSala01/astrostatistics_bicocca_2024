{
 "cells": [
  {
   "cell_type": "markdown",
   "id": "976fbd0f",
   "metadata": {},
   "source": [
    "# Exercise 1\n",
    "\n",
    "There are 3 doors: one with a car, two with goats. The game show host asks you to pick a door, but not to open it yet. Then the host opens one of the other two doors (that you did not pick) and that has a goat. The host offers you the opportunity to switch doors.\n",
    "\n",
    "1. One player decides to switch.\n",
    "2. Another player prefers to stay with the previous choice.\n",
    "3. Now a third player comes in who has not seen what happened earlier. They pick a door.\n",
    "\n",
    "Which of the three players is most likely to win?"
   ]
  },
  {
   "cell_type": "code",
   "execution_count": 1,
   "id": "17955a6a",
   "metadata": {},
   "outputs": [],
   "source": [
    "import numpy as np\n",
    "import random as rnd"
   ]
  },
  {
   "cell_type": "markdown",
   "id": "32905569",
   "metadata": {},
   "source": [
    "One time:"
   ]
  },
  {
   "cell_type": "code",
   "execution_count": 2,
   "id": "624ccdcc",
   "metadata": {},
   "outputs": [
    {
     "name": "stdout",
     "output_type": "stream",
     "text": [
      "['goat', 'car', 'goat']\n"
     ]
    }
   ],
   "source": [
    "# array of the three doors\n",
    "a = ['goat', 'car', 'goat']\n",
    "rnd.shuffle(a)\n",
    "print(a)"
   ]
  },
  {
   "cell_type": "code",
   "execution_count": 3,
   "id": "1de0de12",
   "metadata": {},
   "outputs": [
    {
     "name": "stdout",
     "output_type": "stream",
     "text": [
      "2 car\n"
     ]
    }
   ],
   "source": [
    "# x, y, z are the players so that:\n",
    "# 1. x = chooses one between three doors and then switches it\n",
    "# 2. y = chooses one between three doors and then doesn't change it\n",
    "# 3. z = arrives later and chooses between two doors\n",
    "\n",
    "index = [0, 1, 2]\n",
    "rnd.shuffle(index)\n",
    "\n",
    "x = a[index[0]]\n",
    "y = a[index[0]]\n",
    "\n",
    "print(index[0]+1, x)  # I added 1 because the doors are 1, 2, 3 and the indeces are 0, 1, 2"
   ]
  },
  {
   "cell_type": "code",
   "execution_count": 4,
   "id": "8bf89f40",
   "metadata": {},
   "outputs": [
    {
     "name": "stdout",
     "output_type": "stream",
     "text": [
      "['car', 'goat']\n",
      "x:  car  y:  goat  z:  car\n"
     ]
    }
   ],
   "source": [
    "if x=='car':\n",
    "    b=[a[index[0]], a[index[1]]]\n",
    "if x=='goat':\n",
    "    if a[index[1]]=='car':\n",
    "        b=[a[index[0]], a[index[1]]]\n",
    "    if a[index[1]]=='goat':\n",
    "        b=[a[index[0]], a[index[2]]]\n",
    "\n",
    "print(b)\n",
    "\n",
    "# x is not changing, while y chooses the other door\n",
    "x = b[0]\n",
    "y = b[1]\n",
    "\n",
    "# z is choosing between the last two doors\n",
    "new_index = [0, 1]\n",
    "rnd.shuffle(new_index)\n",
    "z = b[new_index[0]]\n",
    "\n",
    "print('x: ', x, ' y: ', y,' z: ', z)"
   ]
  },
  {
   "cell_type": "markdown",
   "id": "99ecf4af",
   "metadata": {},
   "source": [
    "Repeat it many times:"
   ]
  },
  {
   "cell_type": "code",
   "execution_count": 5,
   "id": "8d1ce02e",
   "metadata": {},
   "outputs": [],
   "source": [
    "# number of iterations\n",
    "N = 50000\n",
    "\n",
    "# the following are the arrays with the N choices of each player\n",
    "X = []\n",
    "Y = []\n",
    "Z = []\n",
    "\n",
    "# cycle over the iterations\n",
    "i = 0\n",
    "for i in range(N):\n",
    "    index = [0, 1, 2]\n",
    "    rnd.shuffle(index)\n",
    "\n",
    "    x = a[index[0]]\n",
    "    y = a[index[0]]\n",
    "\n",
    "    if x=='car':\n",
    "        b=[a[index[0]], a[index[1]]]\n",
    "    if x=='goat':\n",
    "        if a[index[1]]=='car':\n",
    "            b=[a[index[0]], a[index[1]]]\n",
    "        if a[index[1]]=='goat':\n",
    "            b=[a[index[0]], a[index[2]]]\n",
    "\n",
    "    x = b[0]\n",
    "    y = b[1]\n",
    "\n",
    "    new_index = [0, 1]\n",
    "    rnd.shuffle(new_index)\n",
    "    z = b[new_index[0]]\n",
    "    \n",
    "    X.append(x)\n",
    "    Y.append(y)\n",
    "    Z.append(z)"
   ]
  },
  {
   "cell_type": "code",
   "execution_count": 6,
   "id": "452f91d5",
   "metadata": {},
   "outputs": [
    {
     "name": "stdout",
     "output_type": "stream",
     "text": [
      "0.3356 0.6644 0.49964\n"
     ]
    }
   ],
   "source": [
    "# the probability is given by: (number of times they have found car)/(total number = N)\n",
    "\n",
    "j = 0\n",
    "num_X = 0\n",
    "num_Y = 0\n",
    "num_Z = 0\n",
    "\n",
    "for j in range(N):\n",
    "    if X[j]=='car':\n",
    "        num_X = num_X+1\n",
    "        \n",
    "    if Y[j]=='car':\n",
    "        num_Y = num_Y+1\n",
    "        \n",
    "    if Z[j]=='car':\n",
    "        num_Z = num_Z+1\n",
    "\n",
    "prob_X = num_X/N\n",
    "prob_Y = num_Y/N\n",
    "prob_Z = num_Z/N\n",
    "\n",
    "print(prob_X, prob_Y, prob_Z)"
   ]
  },
  {
   "cell_type": "markdown",
   "id": "8267180f",
   "metadata": {},
   "source": [
    "For M=100 doors?"
   ]
  },
  {
   "cell_type": "code",
   "execution_count": 7,
   "id": "bc6b551b",
   "metadata": {},
   "outputs": [],
   "source": [
    "def rm_index(index_choice, array):\n",
    "    while True:\n",
    "        indice = rnd.randint(0, len(array)-1)\n",
    "        if array[indice]!='car' and indice!=index_choice:\n",
    "            return indice\n",
    "        \n",
    "def rm_index1(index_choice, array, indd):\n",
    "    while True:\n",
    "        indice = rnd.randint(0, len(array)-1)\n",
    "        if indice!=indd and indice!=index_choice:\n",
    "            return indice\n",
    "\n",
    "# number of doors\n",
    "M = 100\n",
    "\n",
    "E = []\n",
    "F = []\n",
    "G = []\n",
    "Index = []\n",
    "New_index = []\n",
    "\n",
    "# array of doors\n",
    "c = []\n",
    "c.append('car')\n",
    "for r in range(M-1):\n",
    "    c.append('goat')\n",
    "\n",
    "rnd.shuffle(c)\n",
    "\n",
    "# number of iterations\n",
    "P = 50000\n",
    "h = 0\n",
    "for h in range(P):\n",
    "    \n",
    "    Index = list(range(M))\n",
    "    rnd.shuffle(Index)\n",
    "    \n",
    "    # the player chooses a door\n",
    "    index_choice = Index[0]\n",
    "    e = c[index_choice]\n",
    "    f = c[index_choice]\n",
    "    \n",
    "    d = c.copy()\n",
    "    \n",
    "    # remove an index (where there's a goat and it's not the door chosen by the player)\n",
    "    ind = rm_index(index_choice, d)\n",
    "    \n",
    "    d.pop(ind)\n",
    "    \n",
    "    # ind_2 can't be index_choice and ind\n",
    "    ind_2 = rm_index1(index_choice, c, ind)\n",
    "    f = c[ind_2]\n",
    "    \n",
    "    ind_3 = rnd.randint(0, len(d)-1)\n",
    "    g = d[ind_3]\n",
    "    \n",
    "    E.append(e)\n",
    "    F.append(f)\n",
    "    G.append(g)\n",
    "    \n",
    "    Index.clear()\n",
    "    New_index.clear()"
   ]
  },
  {
   "cell_type": "code",
   "execution_count": 8,
   "id": "c244c7f0",
   "metadata": {},
   "outputs": [
    {
     "name": "stdout",
     "output_type": "stream",
     "text": [
      "0.00978 0.01016 0.01066\n"
     ]
    }
   ],
   "source": [
    "j = 0\n",
    "Num_E = 0\n",
    "Num_F = 0\n",
    "Num_G = 0\n",
    "\n",
    "for j in range(P):\n",
    "    if E[j]=='car':\n",
    "        Num_E = Num_E+1\n",
    "        \n",
    "    if F[j]=='car':\n",
    "        Num_F = Num_F+1\n",
    "        \n",
    "    if G[j]=='car':\n",
    "        Num_G = Num_G+1\n",
    "\n",
    "Prob_E = Num_E/P\n",
    "Prob_F = Num_F/P\n",
    "Prob_G = Num_G/P\n",
    "\n",
    "print(Prob_E, Prob_F, Prob_G)"
   ]
  },
  {
   "cell_type": "code",
   "execution_count": null,
   "id": "48c688c1",
   "metadata": {},
   "outputs": [],
   "source": []
  }
 ],
 "metadata": {
  "kernelspec": {
   "display_name": "Python 3 (ipykernel)",
   "language": "python",
   "name": "python3"
  },
  "language_info": {
   "codemirror_mode": {
    "name": "ipython",
    "version": 3
   },
   "file_extension": ".py",
   "mimetype": "text/x-python",
   "name": "python",
   "nbconvert_exporter": "python",
   "pygments_lexer": "ipython3",
   "version": "3.11.5"
  }
 },
 "nbformat": 4,
 "nbformat_minor": 5
}
